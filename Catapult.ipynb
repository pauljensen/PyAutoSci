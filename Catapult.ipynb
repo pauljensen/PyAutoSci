{
 "cells": [
  {
   "cell_type": "markdown",
   "id": "8124bb5b-510f-4a9a-94cc-4736226a3567",
   "metadata": {},
   "source": [
    "# Set up"
   ]
  },
  {
   "cell_type": "code",
   "execution_count": null,
   "id": "98dc67de-eab6-49fa-8bfd-8008721e6fe8",
   "metadata": {},
   "outputs": [],
   "source": []
  },
  {
   "cell_type": "code",
   "execution_count": null,
   "id": "b5026558-e870-4238-8f46-9ef620c2e438",
   "metadata": {},
   "outputs": [],
   "source": [
    "from FactorSet import *\n",
    "from gp_update_function import *\n",
    "from InitStrategies import *\n",
    "from PlotWrapper import *\n",
    "from plan_next_experiment import *\n",
    "import matplotlib.pyplot as plt\n",
    "from plot_heatmaps import *\n",
    "from sklearn.gaussian_process.kernels import RBF"
   ]
  },
  {
   "cell_type": "markdown",
   "id": "14623b40-e245-45ff-9b17-b3e937c233c3",
   "metadata": {},
   "source": [
    "# Add factors and the number of initial experiments"
   ]
  },
  {
   "cell_type": "code",
   "execution_count": null,
   "id": "8013210b-c929-4d3e-8d9d-dbd5829f8f37",
   "metadata": {},
   "outputs": [],
   "source": [
    "factors = FactorSet()\n",
    "factors.add_categorical(name=\"projectile\", levels=[\"pingpong\", \"whiffle\"])\n",
    "factors.add_continuous(name=\"draw_angle\", minimum=0, maximum=180)\n",
    "factors.add_ordinal(name=\"rubber_bands\", levels=[1, 2, 3])\n",
    "\n",
    "n = 6"
   ]
  },
  {
   "cell_type": "markdown",
   "id": "f64976b7-b274-41e0-a3aa-0c15689cc113",
   "metadata": {
    "jp-MarkdownHeadingCollapsed": true
   },
   "source": [
    "# Create initial designs"
   ]
  },
  {
   "cell_type": "markdown",
   "id": "6240f863-0177-4b9b-8436-6120ca0c5ebc",
   "metadata": {},
   "source": [
    "## Create a Latin Hypercube design"
   ]
  },
  {
   "cell_type": "code",
   "execution_count": null,
   "id": "f53af9c5-1cd5-4ede-8b0e-61ff4f2e265a",
   "metadata": {},
   "outputs": [],
   "source": [
    "X_LHS = latin_hypercube_design(factors,n)\n",
    "plot_design(X_LHS,factors,\"Latin Hypercube Sampling design\")"
   ]
  },
  {
   "cell_type": "markdown",
   "id": "f4f4582f-da72-4aa2-9ee5-ade55c8a46a1",
   "metadata": {},
   "source": [
    "## Create a Maximin design"
   ]
  },
  {
   "cell_type": "code",
   "execution_count": null,
   "id": "ce82aa84-e249-4a30-aea7-500f4134b3a8",
   "metadata": {},
   "outputs": [],
   "source": [
    "X_maximin = maximin_design(factors,n)\n",
    "plot_design(X_maximin,factors,\"Maximin design\")"
   ]
  },
  {
   "cell_type": "markdown",
   "id": "90fc69fe-dbdb-4a78-8131-d4b625a47956",
   "metadata": {},
   "source": [
    "## Create a Random design"
   ]
  },
  {
   "cell_type": "code",
   "execution_count": null,
   "id": "c31c7948-5f01-4eeb-8fb6-3f67eafcaee1",
   "metadata": {},
   "outputs": [],
   "source": [
    "X_random = random_design(factors,n)\n",
    "plot_design(X_random,factors,\"Random design\")"
   ]
  },
  {
   "cell_type": "markdown",
   "id": "8a97b664-b328-45fd-a1be-ee49cfd199d1",
   "metadata": {
    "jp-MarkdownHeadingCollapsed": true
   },
   "source": [
    "# Collect responses to the Maximin design"
   ]
  },
  {
   "cell_type": "code",
   "execution_count": null,
   "id": "03eb6e98-72b7-4bdd-87f1-a4400d503e24",
   "metadata": {},
   "outputs": [],
   "source": [
    "X_maximin"
   ]
  },
  {
   "cell_type": "code",
   "execution_count": null,
   "id": "4d6f2e43-0d2c-4522-af93-74de92b6c69b",
   "metadata": {},
   "outputs": [],
   "source": [
    "#add your responses in this list in order\n",
    "y = []"
   ]
  },
  {
   "cell_type": "markdown",
   "id": "f837ba13-85ef-49cd-9cf1-579e6cc1f982",
   "metadata": {},
   "source": [
    "# Train a Gaussian Process on the initial maximin data and responses"
   ]
  },
  {
   "cell_type": "code",
   "execution_count": null,
   "id": "d86d4d58-cfc9-475f-9ca0-fdd62ee564bf",
   "metadata": {},
   "outputs": [],
   "source": [
    "kernel = RBF()\n",
    "gp = GaussianProcessRegressor(kernel)\n",
    "gp = train_model(gp,X_maximin,y,factors)\n",
    "\n",
    "#copy the GP several times for the different automated science loop strategies\n",
    "gp_exploitation = gp.copy()\n",
    "gp_exploration = gp.copy()\n",
    "gp_ei = gp.copy()"
   ]
  },
  {
   "cell_type": "markdown",
   "id": "377251a6-1027-46b3-85ff-9312f5255d69",
   "metadata": {
    "jp-MarkdownHeadingCollapsed": true
   },
   "source": [
    "# Perform the automated science loop via the distance Exploitation strategy"
   ]
  },
  {
   "cell_type": "markdown",
   "id": "f6592df0-47ba-450a-acdc-8cb02500da1d",
   "metadata": {},
   "source": [
    "## Iteration 1"
   ]
  },
  {
   "cell_type": "markdown",
   "id": "049d0530-7e2a-4eb8-a640-5caa251890da",
   "metadata": {},
   "source": [
    "### Plot the distance heat maps"
   ]
  },
  {
   "cell_type": "code",
   "execution_count": null,
   "id": "e8b802be-6c5c-49a6-849c-392d56e51456",
   "metadata": {},
   "outputs": [],
   "source": [
    "distance_heatmaps(gp_exploitation,factors)"
   ]
  },
  {
   "cell_type": "markdown",
   "id": "1ba03729-c995-4027-8692-9a65cd879190",
   "metadata": {},
   "source": [
    "### Select the next experiment to perform based on distance"
   ]
  },
  {
   "cell_type": "code",
   "execution_count": null,
   "id": "ff4ec6eb-8a25-481a-88dd-b3418379df67",
   "metadata": {},
   "outputs": [],
   "source": [
    "next_experiment_exploitation, obj_val = plan_next_experiment(gp_exploitation, factors, \"Exploitation\")"
   ]
  },
  {
   "cell_type": "code",
   "execution_count": null,
   "id": "0f9d4596-3a81-4589-bd07-36667ce7a279",
   "metadata": {},
   "outputs": [],
   "source": [
    "next_experiment_exploitation"
   ]
  },
  {
   "cell_type": "markdown",
   "id": "7fdda348-414c-49ed-ad6a-cac7c590a274",
   "metadata": {},
   "source": [
    "### Record the response of the selected experiment"
   ]
  },
  {
   "cell_type": "code",
   "execution_count": null,
   "id": "4f761141-4c24-49f7-9f1a-874b5cd8db73",
   "metadata": {},
   "outputs": [],
   "source": [
    "y_new = #add the distance measurement here"
   ]
  },
  {
   "cell_type": "markdown",
   "id": "991f1186-dedd-4746-81ab-bd775471eca5",
   "metadata": {},
   "source": [
    "### Update the Gaussian Process with this new experiment"
   ]
  },
  {
   "cell_type": "code",
   "execution_count": null,
   "id": "57c88abc-0dd6-42f9-9916-2abb4c06a0b6",
   "metadata": {},
   "outputs": [],
   "source": [
    "gp_exploitation = update_model(gp_exploitation,next_experiment_exploitation,y_new,factors)"
   ]
  },
  {
   "cell_type": "markdown",
   "id": "b336435d-911c-4ea4-a197-f77f0e1bf2ed",
   "metadata": {},
   "source": [
    "## Iteration 2"
   ]
  },
  {
   "cell_type": "markdown",
   "id": "5f42b041-ecff-4b06-889f-854f8d1a48fd",
   "metadata": {},
   "source": [
    "### Plot the distance heat maps"
   ]
  },
  {
   "cell_type": "code",
   "execution_count": null,
   "id": "53115731-27ee-46c7-a067-38df36d4e751",
   "metadata": {},
   "outputs": [],
   "source": [
    "distance_heatmaps(gp_exploitation,factors)"
   ]
  },
  {
   "cell_type": "markdown",
   "id": "778db481-df70-4d37-890a-b611ac35b3d3",
   "metadata": {},
   "source": [
    "### Select the next experiment to perform based on distance"
   ]
  },
  {
   "cell_type": "code",
   "execution_count": null,
   "id": "bc9c1faf-ef4f-4737-b431-85816ae3bde3",
   "metadata": {},
   "outputs": [],
   "source": [
    "next_experiment_exploitation, obj_val = plan_next_experiment(gp_exploitation, factors, \"Exploitation\")"
   ]
  },
  {
   "cell_type": "code",
   "execution_count": null,
   "id": "412b611f-fb87-4d90-a818-d8c89896b2cd",
   "metadata": {},
   "outputs": [],
   "source": [
    "next_experiment_exploitation"
   ]
  },
  {
   "cell_type": "markdown",
   "id": "bc850241-ec97-4498-9da2-a694cd764c76",
   "metadata": {},
   "source": [
    "### Record the response of the selected experiment"
   ]
  },
  {
   "cell_type": "code",
   "execution_count": null,
   "id": "4706508b-c682-4422-a094-1fc0260daa57",
   "metadata": {},
   "outputs": [],
   "source": [
    "y_new = #add the distance measurement here"
   ]
  },
  {
   "cell_type": "markdown",
   "id": "7e3e8ff8-8926-4462-9a5f-97a79b8a44f8",
   "metadata": {},
   "source": [
    "### Update the Gaussian Process with this new experiment"
   ]
  },
  {
   "cell_type": "code",
   "execution_count": null,
   "id": "d71b8e07-9bc4-49d2-b54f-7216ff24efae",
   "metadata": {},
   "outputs": [],
   "source": [
    "gp_exploitation = update_model(gp_exploitation,next_experiment_exploitation,y_new,factors)"
   ]
  },
  {
   "cell_type": "markdown",
   "id": "b7be944c-fae1-449e-b50b-1f65005c37ad",
   "metadata": {},
   "source": [
    "## Iteration 3"
   ]
  },
  {
   "cell_type": "markdown",
   "id": "806feb1d-f7d7-4843-9931-8be8c54ec674",
   "metadata": {},
   "source": [
    "### Plot the distance heat maps"
   ]
  },
  {
   "cell_type": "code",
   "execution_count": null,
   "id": "01d7c0cf-d729-48bd-a6f5-33cf98838895",
   "metadata": {},
   "outputs": [],
   "source": [
    "distance_heatmaps(gp_exploitation,factors)"
   ]
  },
  {
   "cell_type": "markdown",
   "id": "a7b3c9ca-ce29-4c42-9a79-56dbfef565ef",
   "metadata": {},
   "source": [
    "### Select the next experiment to perform based on distance"
   ]
  },
  {
   "cell_type": "code",
   "execution_count": null,
   "id": "bf43cd52-1f2f-460a-88d0-38760cc65e4e",
   "metadata": {},
   "outputs": [],
   "source": [
    "next_experiment_exploitation, obj_val = plan_next_experiment(gp_exploitation, factors, \"Exploitation\")"
   ]
  },
  {
   "cell_type": "code",
   "execution_count": null,
   "id": "7fff8a4b-73a4-478b-82ce-ecbf459049cd",
   "metadata": {},
   "outputs": [],
   "source": [
    "next_experiment_exploitation"
   ]
  },
  {
   "cell_type": "markdown",
   "id": "fc6934b9-ebe2-40a0-879c-832357615ded",
   "metadata": {},
   "source": [
    "### Record the response of the selected experiment"
   ]
  },
  {
   "cell_type": "code",
   "execution_count": null,
   "id": "91ee2081-5ffd-488a-a33a-ace9bb779b7a",
   "metadata": {},
   "outputs": [],
   "source": [
    "y_new = #add the distance measurement here"
   ]
  },
  {
   "cell_type": "markdown",
   "id": "31b5c412-c31f-4b51-95f3-4e044358e130",
   "metadata": {},
   "source": [
    "### Update the Gaussian Process with this new experiment"
   ]
  },
  {
   "cell_type": "code",
   "execution_count": null,
   "id": "3bfd7b00-2448-4a84-94f3-902a8fca7160",
   "metadata": {},
   "outputs": [],
   "source": [
    "gp_exploitation = update_model(gp_exploitation,next_experiment_exploitation,y_new,factors)"
   ]
  },
  {
   "cell_type": "markdown",
   "id": "5e580b0d-3036-43e2-b1bd-c131d271001a",
   "metadata": {},
   "source": [
    "## Iteration 4"
   ]
  },
  {
   "cell_type": "markdown",
   "id": "1fbec2d1-c73f-4ec3-81e5-4842ecb46656",
   "metadata": {},
   "source": [
    "### Plot the distance heat maps"
   ]
  },
  {
   "cell_type": "code",
   "execution_count": null,
   "id": "016cf5b6-62b5-4a83-a354-b87a269e33c3",
   "metadata": {},
   "outputs": [],
   "source": [
    "distance_heatmaps(gp_exploitation,factors)"
   ]
  },
  {
   "cell_type": "markdown",
   "id": "44d01e10-ddf5-4e3a-8ab7-e57ef2500bc8",
   "metadata": {},
   "source": [
    "### Select the next experiment to perform based on distance"
   ]
  },
  {
   "cell_type": "code",
   "execution_count": null,
   "id": "d975e649-c8de-4f8c-8ca0-d8dad8fe9fa8",
   "metadata": {},
   "outputs": [],
   "source": [
    "next_experiment_exploitation, obj_val = plan_next_experiment(gp_exploitation, factors, \"Exploitation\")"
   ]
  },
  {
   "cell_type": "code",
   "execution_count": null,
   "id": "cef089ae-72c4-4ee4-8b65-653d309df825",
   "metadata": {},
   "outputs": [],
   "source": [
    "next_experiment_exploitation"
   ]
  },
  {
   "cell_type": "markdown",
   "id": "0d796afe-0e0c-40f6-bc1c-18cce1d15072",
   "metadata": {},
   "source": [
    "### Record the response of the selected experiment"
   ]
  },
  {
   "cell_type": "code",
   "execution_count": null,
   "id": "81ab1a39-2b66-4d5e-ba1e-7c08aee7ab02",
   "metadata": {},
   "outputs": [],
   "source": [
    "y_new = #add the distance measurement here"
   ]
  },
  {
   "cell_type": "markdown",
   "id": "8f28d9f6-2acd-4553-8e18-51f74d9ff2fe",
   "metadata": {},
   "source": [
    "### Update the Gaussian Process with this new experiment"
   ]
  },
  {
   "cell_type": "code",
   "execution_count": null,
   "id": "230b38e0-3d23-4d68-af6b-df8c2c30b32b",
   "metadata": {},
   "outputs": [],
   "source": [
    "gp_exploitation = update_model(gp_exploitation,next_experiment_exploitation,y_new,factors)"
   ]
  },
  {
   "cell_type": "markdown",
   "id": "4285d111-35cb-4937-a3f5-5043ec6b8cb0",
   "metadata": {},
   "source": [
    "## Iteration 5"
   ]
  },
  {
   "cell_type": "markdown",
   "id": "0c7479fc-5e6c-44bf-b999-6c15402757f4",
   "metadata": {},
   "source": [
    "### Plot the distance heat maps"
   ]
  },
  {
   "cell_type": "code",
   "execution_count": null,
   "id": "b800fb82-a5d1-4cbf-9f87-47ef8c8f5d8f",
   "metadata": {},
   "outputs": [],
   "source": [
    "distance_heatmaps(gp_exploitation,factors)"
   ]
  },
  {
   "cell_type": "markdown",
   "id": "e07a6031-5d47-44e3-b186-c9cdaef4f6e1",
   "metadata": {},
   "source": [
    "### Select the next experiment to perform based on distance"
   ]
  },
  {
   "cell_type": "code",
   "execution_count": null,
   "id": "715ef299-9b1e-48e1-b368-613cab0633d4",
   "metadata": {},
   "outputs": [],
   "source": [
    "next_experiment_exploitation, obj_val = plan_next_experiment(gp_exploitation, factors, \"Exploitation\")"
   ]
  },
  {
   "cell_type": "code",
   "execution_count": null,
   "id": "c23eed4b-b245-4e8b-87b2-ffdd5e281707",
   "metadata": {},
   "outputs": [],
   "source": [
    "next_experiment_exploitation"
   ]
  },
  {
   "cell_type": "markdown",
   "id": "8e781e51-c186-4e94-8b96-cae67889b8b1",
   "metadata": {},
   "source": [
    "### Record the response of the selected experiment"
   ]
  },
  {
   "cell_type": "code",
   "execution_count": null,
   "id": "cc37586e-3443-4752-a1e9-f11412fcaad5",
   "metadata": {},
   "outputs": [],
   "source": [
    "y_new = #add the distance measurement here"
   ]
  },
  {
   "cell_type": "markdown",
   "id": "1b375e37-232b-42cd-b1fe-94766f08277b",
   "metadata": {},
   "source": [
    "### Update the Gaussian Process with this new experiment"
   ]
  },
  {
   "cell_type": "code",
   "execution_count": null,
   "id": "b9256bab-3485-4c59-b75a-48045eeb2a5e",
   "metadata": {},
   "outputs": [],
   "source": [
    "gp_exploitation = update_model(gp_exploitation,next_experiment_exploitation,y_new,factors)"
   ]
  },
  {
   "cell_type": "markdown",
   "id": "429a93d0-200d-4fd1-8d38-d23dfe64e2d5",
   "metadata": {
    "jp-MarkdownHeadingCollapsed": true
   },
   "source": [
    "## Iteration 6"
   ]
  },
  {
   "cell_type": "markdown",
   "id": "0238c279-5857-4b07-b181-9db2e0621f20",
   "metadata": {},
   "source": [
    "### Plot the distance heat maps"
   ]
  },
  {
   "cell_type": "code",
   "execution_count": null,
   "id": "68570eb1-b7ff-40a6-86f2-54a074362051",
   "metadata": {},
   "outputs": [],
   "source": [
    "distance_heatmaps(gp_exploitation,factors)"
   ]
  },
  {
   "cell_type": "markdown",
   "id": "53d3c799-8685-4b2e-b7f6-bd76a4b0ada2",
   "metadata": {},
   "source": [
    "### Select the next experiment to perform based on distance"
   ]
  },
  {
   "cell_type": "code",
   "execution_count": null,
   "id": "1d7271b7-3795-4a4b-a040-d778e0b5d591",
   "metadata": {},
   "outputs": [],
   "source": [
    "next_experiment_exploitation, obj_val = plan_next_experiment(gp_exploitation, factors, \"Exploitation\")"
   ]
  },
  {
   "cell_type": "code",
   "execution_count": null,
   "id": "720bfdfb-b7b2-462e-8be3-d595f5e08879",
   "metadata": {},
   "outputs": [],
   "source": [
    "next_experiment_exploitation"
   ]
  },
  {
   "cell_type": "markdown",
   "id": "4cf8b9cb-316b-4a5e-bdb9-53c452bc87e8",
   "metadata": {},
   "source": [
    "### Record the response of the selected experiment"
   ]
  },
  {
   "cell_type": "code",
   "execution_count": null,
   "id": "ff47bf5f-4944-4400-9288-df313ac9b6f2",
   "metadata": {},
   "outputs": [],
   "source": [
    "y_new = #add the distance measurement here"
   ]
  },
  {
   "cell_type": "markdown",
   "id": "6cdfc21a-b0f5-4865-96c3-cf93da16dbfc",
   "metadata": {},
   "source": [
    "### Update the Gaussian Process with this new experiment"
   ]
  },
  {
   "cell_type": "code",
   "execution_count": null,
   "id": "a9a5156f-43e7-4d2a-95b1-209e41a03256",
   "metadata": {},
   "outputs": [],
   "source": [
    "gp_exploitation = update_model(gp_exploitation,next_experiment_exploitation,y_new,factors)"
   ]
  },
  {
   "cell_type": "markdown",
   "id": "f8024509-2a3f-469d-ab81-3a3455592939",
   "metadata": {
    "jp-MarkdownHeadingCollapsed": true
   },
   "source": [
    "## Plot final distance heat maps"
   ]
  },
  {
   "cell_type": "code",
   "execution_count": null,
   "id": "70412204-0b2f-4ab1-a7b0-d00d355ab417",
   "metadata": {},
   "outputs": [],
   "source": [
    "distance_heatmaps(gp_exploitation,factors)"
   ]
  },
  {
   "cell_type": "markdown",
   "id": "58983e83-9733-447d-b74d-c5994b52bf8f",
   "metadata": {
    "jp-MarkdownHeadingCollapsed": true
   },
   "source": [
    "# Perform the automated science loop via the uncertainty Exploration strategy"
   ]
  },
  {
   "cell_type": "markdown",
   "id": "7dc5b438-bbdd-46a6-bde2-b36fa50d7152",
   "metadata": {
    "jp-MarkdownHeadingCollapsed": true
   },
   "source": [
    "## Iteration 1"
   ]
  },
  {
   "cell_type": "markdown",
   "id": "e0d0d32c-8815-4903-814c-e4174ff1a0b7",
   "metadata": {
    "jp-MarkdownHeadingCollapsed": true
   },
   "source": [
    "### Plot the standard deviation heat maps"
   ]
  },
  {
   "cell_type": "code",
   "execution_count": null,
   "id": "71220f8f-a84f-4192-bff9-e634ee02629f",
   "metadata": {},
   "outputs": [],
   "source": [
    "uncertainty_heatmaps(gp_exploration,factors)"
   ]
  },
  {
   "cell_type": "markdown",
   "id": "438d8727-4020-4b95-b888-3e5097b51890",
   "metadata": {},
   "source": [
    "### Select the next experiment to perform based on distance"
   ]
  },
  {
   "cell_type": "code",
   "execution_count": null,
   "id": "4affc109-6674-4c19-a9c8-813f93a11b04",
   "metadata": {},
   "outputs": [],
   "source": [
    "next_experiment_exploration, obj_val = plan_next_experiment(gp_exploration, factors, \"Exploration\")"
   ]
  },
  {
   "cell_type": "code",
   "execution_count": null,
   "id": "812402dd-4d7a-483a-b565-51707b0b1ff9",
   "metadata": {},
   "outputs": [],
   "source": [
    "next_experiment_exploration"
   ]
  },
  {
   "cell_type": "markdown",
   "id": "20c6da1a-b02b-4aca-a73d-962349eaa28b",
   "metadata": {},
   "source": [
    "### Record the response of the selected experiment"
   ]
  },
  {
   "cell_type": "code",
   "execution_count": null,
   "id": "248396cc-d23d-407b-bd85-a477690d27ea",
   "metadata": {},
   "outputs": [],
   "source": [
    "y_new = #add the distance measurement here"
   ]
  },
  {
   "cell_type": "markdown",
   "id": "f746446b-56b5-4f94-a8f0-5c3cbd154ba5",
   "metadata": {},
   "source": [
    "### Update the Gaussian Process with this new experiment"
   ]
  },
  {
   "cell_type": "code",
   "execution_count": null,
   "id": "0581f7df-694c-486c-aad2-4dd24a20bf47",
   "metadata": {},
   "outputs": [],
   "source": [
    "gp_exploration = update_model(gp_exploration,next_experiment_exploration,y_new,factors)"
   ]
  },
  {
   "cell_type": "markdown",
   "id": "0107f4f8-8d99-4d96-bebf-5e5de83e67fc",
   "metadata": {
    "jp-MarkdownHeadingCollapsed": true
   },
   "source": [
    "## Iteration 2"
   ]
  },
  {
   "cell_type": "markdown",
   "id": "cc11b3bb-d21d-4982-bc31-b249a6348e13",
   "metadata": {},
   "source": [
    "### Plot the standard deviation heat maps"
   ]
  },
  {
   "cell_type": "code",
   "execution_count": null,
   "id": "5cfcd570-44a0-46e0-9b00-fa1a358be6d7",
   "metadata": {},
   "outputs": [],
   "source": [
    "uncertainty_heatmaps(gp_exploration,factors)"
   ]
  },
  {
   "cell_type": "markdown",
   "id": "1175eb05-5446-4a4d-925d-cd9711939725",
   "metadata": {},
   "source": [
    "### Select the next experiment to perform based on distance"
   ]
  },
  {
   "cell_type": "code",
   "execution_count": null,
   "id": "7d4fdad0-b17d-4496-ab8d-ca3140bd3a15",
   "metadata": {},
   "outputs": [],
   "source": [
    "next_experiment_exploration, obj_val = plan_next_experiment(gp_exploration, factors, \"Exploration\")"
   ]
  },
  {
   "cell_type": "code",
   "execution_count": null,
   "id": "7e9d0203-c0c9-4e2b-b339-2e71a17a3912",
   "metadata": {},
   "outputs": [],
   "source": [
    "next_experiment_exploration"
   ]
  },
  {
   "cell_type": "markdown",
   "id": "c51cdf67-68d2-42cb-8852-427448c173c7",
   "metadata": {},
   "source": [
    "### Record the response of the selected experiment"
   ]
  },
  {
   "cell_type": "code",
   "execution_count": null,
   "id": "6c754813-1ba2-4cf4-9887-68410cc676df",
   "metadata": {},
   "outputs": [],
   "source": [
    "y_new = #add the distance measurement here"
   ]
  },
  {
   "cell_type": "markdown",
   "id": "6453c6ab-faf8-47aa-b5d6-67526949a9c2",
   "metadata": {},
   "source": [
    "### Update the Gaussian Process with this new experiment"
   ]
  },
  {
   "cell_type": "code",
   "execution_count": null,
   "id": "71fff449-0d92-497a-90f7-209acd171ac3",
   "metadata": {},
   "outputs": [],
   "source": [
    "gp_exploration = update_model(gp_exploration,next_experiment_exploration,y_new,factors)"
   ]
  },
  {
   "cell_type": "markdown",
   "id": "33e00b56-79e4-4d9c-b709-04caeec45079",
   "metadata": {
    "jp-MarkdownHeadingCollapsed": true
   },
   "source": [
    "## Iteration 3"
   ]
  },
  {
   "cell_type": "markdown",
   "id": "47be7df8-c382-4cd2-84b8-c976dc9048cd",
   "metadata": {},
   "source": [
    "### Plot the standard deviation heat maps"
   ]
  },
  {
   "cell_type": "code",
   "execution_count": null,
   "id": "db5c2721-80ba-40e2-8f13-510da556327a",
   "metadata": {},
   "outputs": [],
   "source": [
    "uncertainty_heatmaps(gp_exploration,factors)"
   ]
  },
  {
   "cell_type": "markdown",
   "id": "6f347092-465b-4213-a8e1-e9a9c2846824",
   "metadata": {},
   "source": [
    "### Select the next experiment to perform based on distance"
   ]
  },
  {
   "cell_type": "code",
   "execution_count": null,
   "id": "80593ccb-c2e5-4432-96a8-d892c40796bb",
   "metadata": {},
   "outputs": [],
   "source": [
    "next_experiment_exploration, obj_val = plan_next_experiment(gp_exploration, factors, \"Exploration\")"
   ]
  },
  {
   "cell_type": "code",
   "execution_count": null,
   "id": "6aecb9f8-16bf-4251-b623-64046237d1a0",
   "metadata": {},
   "outputs": [],
   "source": [
    "next_experiment_exploration"
   ]
  },
  {
   "cell_type": "markdown",
   "id": "8bdfd101-5109-4e11-89a0-fed2b7bc74e2",
   "metadata": {
    "jp-MarkdownHeadingCollapsed": true
   },
   "source": [
    "### Record the response of the selected experiment"
   ]
  },
  {
   "cell_type": "code",
   "execution_count": null,
   "id": "34a30d13-a97a-4e1a-8870-d96810f83f52",
   "metadata": {},
   "outputs": [],
   "source": [
    "y_new = #add the distance measurement here"
   ]
  },
  {
   "cell_type": "markdown",
   "id": "e21174c2-d6ab-470d-8362-77509550fc90",
   "metadata": {
    "jp-MarkdownHeadingCollapsed": true
   },
   "source": [
    "### Update the Gaussian Process with this new experiment"
   ]
  },
  {
   "cell_type": "code",
   "execution_count": null,
   "id": "de681bcd-fbcb-4aa3-9c8b-ca8158fef098",
   "metadata": {},
   "outputs": [],
   "source": [
    "gp_exploration = update_model(gp_exploration,next_experiment_exploration,y_new,factors)"
   ]
  },
  {
   "cell_type": "markdown",
   "id": "bc985171-27c2-49a8-97f9-99c614541a5f",
   "metadata": {
    "jp-MarkdownHeadingCollapsed": true
   },
   "source": [
    "## Iteration 4"
   ]
  },
  {
   "cell_type": "markdown",
   "id": "e323ab2e-93c9-4532-af5a-f039be03b7a0",
   "metadata": {},
   "source": [
    "### Plot the standard deviation heat maps"
   ]
  },
  {
   "cell_type": "code",
   "execution_count": null,
   "id": "e8237def-8038-400a-82e2-bc1f51f39a97",
   "metadata": {},
   "outputs": [],
   "source": [
    "uncertainty_heatmaps(gp_exploration,factors)"
   ]
  },
  {
   "cell_type": "markdown",
   "id": "fc589bc1-d7ad-4874-80bf-17116bfe052d",
   "metadata": {},
   "source": [
    "### Select the next experiment to perform based on distance"
   ]
  },
  {
   "cell_type": "code",
   "execution_count": null,
   "id": "7274ad37-4172-4182-b529-4f59e339accb",
   "metadata": {},
   "outputs": [],
   "source": [
    "next_experiment_exploration, obj_val = plan_next_experiment(gp_exploration, factors, \"Exploration\")"
   ]
  },
  {
   "cell_type": "code",
   "execution_count": null,
   "id": "70545eb5-d02a-407a-86ae-53f3b0dc0676",
   "metadata": {},
   "outputs": [],
   "source": [
    "next_experiment_exploration"
   ]
  },
  {
   "cell_type": "markdown",
   "id": "7f5e927d-8285-48f8-844a-32f2e36d0601",
   "metadata": {},
   "source": [
    "### Record the response of the selected experiment"
   ]
  },
  {
   "cell_type": "code",
   "execution_count": null,
   "id": "ee641269-9a7b-480d-b0e8-f58619e96fa1",
   "metadata": {},
   "outputs": [],
   "source": [
    "y_new = #add the distance measurement here"
   ]
  },
  {
   "cell_type": "markdown",
   "id": "7861098a-8246-49f6-b707-1d3dac2e5cfe",
   "metadata": {},
   "source": [
    "### Update the Gaussian Process with this new experiment"
   ]
  },
  {
   "cell_type": "code",
   "execution_count": null,
   "id": "70c7fcd8-dd75-4b79-a20c-0668be6ba2ce",
   "metadata": {},
   "outputs": [],
   "source": [
    "gp_exploration = update_model(gp_exploration,next_experiment_exploration,y_new,factors)"
   ]
  },
  {
   "cell_type": "markdown",
   "id": "9c585838-efea-4d2f-92fe-0d3b5d8a9d59",
   "metadata": {
    "jp-MarkdownHeadingCollapsed": true
   },
   "source": [
    "## Iteration 5"
   ]
  },
  {
   "cell_type": "markdown",
   "id": "4f907200-822b-413a-91b1-5887af597a29",
   "metadata": {},
   "source": [
    "### Plot the standard deviation heat maps"
   ]
  },
  {
   "cell_type": "code",
   "execution_count": null,
   "id": "e57889e3-3abd-4b2b-b63d-cce78eb6d044",
   "metadata": {},
   "outputs": [],
   "source": [
    "uncertainty_heatmaps(gp_exploration,factors)"
   ]
  },
  {
   "cell_type": "markdown",
   "id": "b0904e5f-e3bf-460e-82a9-4e93c33ff388",
   "metadata": {},
   "source": [
    "### Select the next experiment to perform based on distance"
   ]
  },
  {
   "cell_type": "code",
   "execution_count": null,
   "id": "a8521917-82e3-449b-9e64-9bc0426da253",
   "metadata": {},
   "outputs": [],
   "source": [
    "next_experiment_exploration, obj_val = plan_next_experiment(gp_exploration, factors, \"Exploration\")"
   ]
  },
  {
   "cell_type": "code",
   "execution_count": null,
   "id": "4343a373-750f-41a8-a139-e7849210aee1",
   "metadata": {},
   "outputs": [],
   "source": [
    "next_experiment_exploration"
   ]
  },
  {
   "cell_type": "markdown",
   "id": "92018959-cef8-4272-8e73-5b0a1460bdd5",
   "metadata": {},
   "source": [
    "### Record the response of the selected experiment"
   ]
  },
  {
   "cell_type": "code",
   "execution_count": null,
   "id": "a003e35e-25e2-42c0-9e71-062e24e69bd6",
   "metadata": {},
   "outputs": [],
   "source": [
    "y_new = #add the distance measurement here"
   ]
  },
  {
   "cell_type": "markdown",
   "id": "77c522ad-a4e5-47b1-acc1-bc4b4d9204d3",
   "metadata": {},
   "source": [
    "### Update the Gaussian Process with this new experiment"
   ]
  },
  {
   "cell_type": "code",
   "execution_count": null,
   "id": "93039734-78a3-4717-958a-26801d21bf40",
   "metadata": {},
   "outputs": [],
   "source": [
    "gp_exploration = update_model(gp_exploration,next_experiment_exploration,y_new,factors)"
   ]
  },
  {
   "cell_type": "markdown",
   "id": "e7f20433-79fc-420a-82f0-93f966576e51",
   "metadata": {
    "jp-MarkdownHeadingCollapsed": true
   },
   "source": [
    "## Iteration 6"
   ]
  },
  {
   "cell_type": "markdown",
   "id": "eb7147c5-6933-401a-a558-f84c76b36945",
   "metadata": {},
   "source": [
    "### Plot the standard deviation heat maps"
   ]
  },
  {
   "cell_type": "code",
   "execution_count": null,
   "id": "1fde46b4-7d9a-4351-9e45-ea406675fe87",
   "metadata": {},
   "outputs": [],
   "source": [
    "uncertainty_heatmaps(gp_exploration,factors)"
   ]
  },
  {
   "cell_type": "markdown",
   "id": "31b25434-d8a9-4b63-b66b-2681e54ef0e2",
   "metadata": {},
   "source": [
    "### Select the next experiment to perform based on distance"
   ]
  },
  {
   "cell_type": "code",
   "execution_count": null,
   "id": "21aa6ed0-698a-4ab7-9df7-574806671857",
   "metadata": {},
   "outputs": [],
   "source": [
    "next_experiment_exploration, obj_val = plan_next_experiment(gp_exploration, factors, \"Exploration\")"
   ]
  },
  {
   "cell_type": "code",
   "execution_count": null,
   "id": "73e69d29-9b75-47b8-b510-a53e0ab56f2e",
   "metadata": {},
   "outputs": [],
   "source": [
    "next_experiment_exploration"
   ]
  },
  {
   "cell_type": "markdown",
   "id": "d3e05e80-ee47-4b2f-9bd0-9b71e4f40757",
   "metadata": {},
   "source": [
    "### Record the response of the selected experiment"
   ]
  },
  {
   "cell_type": "code",
   "execution_count": null,
   "id": "45a48500-3617-4da6-bb7a-2432c8548c7d",
   "metadata": {},
   "outputs": [],
   "source": [
    "y_new = #add the distance measurement here"
   ]
  },
  {
   "cell_type": "markdown",
   "id": "985c0b9f-6ca6-40cf-b84e-5485cec20333",
   "metadata": {},
   "source": [
    "### Update the Gaussian Process with this new experiment"
   ]
  },
  {
   "cell_type": "code",
   "execution_count": null,
   "id": "fc6b6c70-d75e-44d5-aab7-4a5c66961a96",
   "metadata": {},
   "outputs": [],
   "source": [
    "gp_exploration = update_model(gp_exploration,next_experiment_exploration,y_new,factors)"
   ]
  },
  {
   "cell_type": "markdown",
   "id": "e4704bfc-37cb-47f0-be86-a6d079ebb251",
   "metadata": {
    "jp-MarkdownHeadingCollapsed": true
   },
   "source": [
    "## Plot the final standard deviation heatmaps"
   ]
  },
  {
   "cell_type": "code",
   "execution_count": null,
   "id": "64a14c98-9e6c-49eb-8343-06f13ca53ed3",
   "metadata": {},
   "outputs": [],
   "source": [
    "uncertainty_heatmaps(gp_exploration,factors)"
   ]
  },
  {
   "cell_type": "markdown",
   "id": "1b309e99-1339-4bb4-a28a-42c08c8858e4",
   "metadata": {
    "jp-MarkdownHeadingCollapsed": true
   },
   "source": [
    "# Perform the automated science loop via the hybrid Expected Improvement strategy"
   ]
  },
  {
   "cell_type": "markdown",
   "id": "2cc227da-5758-4fd4-8eb5-954ee31cc499",
   "metadata": {},
   "source": [
    "## Iteration 1"
   ]
  },
  {
   "cell_type": "markdown",
   "id": "844661ff-838b-410a-a000-6e6d0f00372a",
   "metadata": {},
   "source": [
    "### Plot the EI heat maps"
   ]
  },
  {
   "cell_type": "code",
   "execution_count": null,
   "id": "d74e474d-3539-4b0d-9a52-1e94f6b93328",
   "metadata": {},
   "outputs": [],
   "source": [
    "ei_heatmaps(gp_ei,factors)"
   ]
  },
  {
   "cell_type": "markdown",
   "id": "913f1e43-6a1d-4523-863b-4ab71a1f4058",
   "metadata": {},
   "source": [
    "### Select the next experiment to perform based on distance"
   ]
  },
  {
   "cell_type": "code",
   "execution_count": null,
   "id": "54212d90-756f-40da-87e2-b6460f9e7e6d",
   "metadata": {},
   "outputs": [],
   "source": [
    "next_experiment_ei, obj_val = plan_next_experiment(gp_ei, factors, \"EI\")"
   ]
  },
  {
   "cell_type": "code",
   "execution_count": null,
   "id": "df1ce33d-704b-4f23-bead-b498cd9a457e",
   "metadata": {},
   "outputs": [],
   "source": [
    "next_experiment_ei"
   ]
  },
  {
   "cell_type": "markdown",
   "id": "2d172e2c-a045-410b-8da3-8269385861e2",
   "metadata": {},
   "source": [
    "### Record the response of the selected experiment"
   ]
  },
  {
   "cell_type": "code",
   "execution_count": null,
   "id": "1c6c2354-5058-4ae5-b199-b4de7797d3a5",
   "metadata": {},
   "outputs": [],
   "source": [
    "y_new = #add the distance measurement here"
   ]
  },
  {
   "cell_type": "markdown",
   "id": "51740adc-9a19-46aa-9314-91e8cd19c886",
   "metadata": {},
   "source": [
    "### Update the Gaussian Process with this new experiment"
   ]
  },
  {
   "cell_type": "code",
   "execution_count": null,
   "id": "4d8d482a-80d2-4335-83e9-baefc65cafd3",
   "metadata": {},
   "outputs": [],
   "source": [
    "gp_ei = update_model(gp_ei,next_experiment_ei,y_new,factors)"
   ]
  },
  {
   "cell_type": "markdown",
   "id": "a34639de-12bd-4938-8235-b60d67901470",
   "metadata": {},
   "source": [
    "## Iteration 2"
   ]
  },
  {
   "cell_type": "markdown",
   "id": "7d3d0d26-97f0-4cde-80b6-79445891ad90",
   "metadata": {},
   "source": [
    "### Plot the EI heat maps"
   ]
  },
  {
   "cell_type": "code",
   "execution_count": null,
   "id": "5c17f2b3-f0c1-4f48-a5a0-a4a672bc2427",
   "metadata": {},
   "outputs": [],
   "source": [
    "ei_heatmaps(gp_ei,factors)"
   ]
  },
  {
   "cell_type": "markdown",
   "id": "6e2cf580-38ae-483f-9245-d3582a04bc45",
   "metadata": {},
   "source": [
    "### Select the next experiment to perform based on distance"
   ]
  },
  {
   "cell_type": "code",
   "execution_count": null,
   "id": "c28d69db-a97c-430d-84b0-2d0239f18c0a",
   "metadata": {},
   "outputs": [],
   "source": [
    "next_experiment_ei, obj_val = plan_next_experiment(gp_ei, factors, \"EI\")"
   ]
  },
  {
   "cell_type": "code",
   "execution_count": null,
   "id": "a86119d3-41c3-4a8d-afd6-c25f476bb52e",
   "metadata": {},
   "outputs": [],
   "source": [
    "next_experiment_ei"
   ]
  },
  {
   "cell_type": "markdown",
   "id": "6d8ec17c-d894-4470-ab56-252b35601718",
   "metadata": {},
   "source": [
    "### Record the response of the selected experiment"
   ]
  },
  {
   "cell_type": "code",
   "execution_count": null,
   "id": "7cb6e336-832d-4c5a-9ac9-ec563c554b8e",
   "metadata": {},
   "outputs": [],
   "source": [
    "y_new = #add the distance measurement here"
   ]
  },
  {
   "cell_type": "markdown",
   "id": "dccf217f-0af9-4d5b-8592-89c518e8ea96",
   "metadata": {},
   "source": [
    "### Update the Gaussian Process with this new experiment"
   ]
  },
  {
   "cell_type": "code",
   "execution_count": null,
   "id": "30d1cc2b-6180-46bc-980e-30d66865df09",
   "metadata": {},
   "outputs": [],
   "source": [
    "gp_ei = update_model(gp_ei,next_experiment_ei,y_new,factors)"
   ]
  },
  {
   "cell_type": "markdown",
   "id": "132cf55e-b0f0-4018-abba-25567676a5f2",
   "metadata": {},
   "source": [
    "## Iteration 3"
   ]
  },
  {
   "cell_type": "markdown",
   "id": "98e9ec2a-0fbd-4d2c-9fcd-02ec0d8ceff2",
   "metadata": {},
   "source": [
    "### Plot the EI heat maps"
   ]
  },
  {
   "cell_type": "code",
   "execution_count": null,
   "id": "b532207f-32b7-417d-bf44-dff51b2a4448",
   "metadata": {},
   "outputs": [],
   "source": [
    "ei_heatmaps(gp_ei,factors)"
   ]
  },
  {
   "cell_type": "markdown",
   "id": "cf1974b3-8234-45bc-a4d2-d5ee576afb43",
   "metadata": {},
   "source": [
    "### Select the next experiment to perform based on distance"
   ]
  },
  {
   "cell_type": "code",
   "execution_count": null,
   "id": "eb5ebcaa-59c5-4879-bc71-68845487628f",
   "metadata": {},
   "outputs": [],
   "source": [
    "next_experiment_ei, obj_val = plan_next_experiment(gp_ei, factors, \"EI\")"
   ]
  },
  {
   "cell_type": "code",
   "execution_count": null,
   "id": "83cea006-6058-4b38-9e23-3a308b049d8e",
   "metadata": {},
   "outputs": [],
   "source": [
    "next_experiment_ei"
   ]
  },
  {
   "cell_type": "markdown",
   "id": "5915c68b-7390-4797-a7f6-f8f0b617575b",
   "metadata": {},
   "source": [
    "### Record the response of the selected experiment"
   ]
  },
  {
   "cell_type": "code",
   "execution_count": null,
   "id": "76e9baf5-76ee-4cbc-943b-b86c5bf901c2",
   "metadata": {},
   "outputs": [],
   "source": [
    "y_new = #add the distance measurement here"
   ]
  },
  {
   "cell_type": "markdown",
   "id": "a750312d-828c-4339-b21d-131b03eefef8",
   "metadata": {},
   "source": [
    "### Update the Gaussian Process with this new experiment"
   ]
  },
  {
   "cell_type": "code",
   "execution_count": null,
   "id": "a06c6f72-2239-4078-9379-f6121a3ea881",
   "metadata": {},
   "outputs": [],
   "source": [
    "gp_ei = update_model(gp_ei,next_experiment_ei,y_new,factors)"
   ]
  },
  {
   "cell_type": "markdown",
   "id": "64e1db78-b6d3-4595-8d8e-b833e559b95b",
   "metadata": {},
   "source": [
    "## Iteration 4"
   ]
  },
  {
   "cell_type": "markdown",
   "id": "5153d0bb-a17c-428e-a52c-13602e272412",
   "metadata": {},
   "source": [
    "### Plot the EI heat maps"
   ]
  },
  {
   "cell_type": "code",
   "execution_count": null,
   "id": "dc32602a-048f-4a9d-b996-0c8319036e38",
   "metadata": {},
   "outputs": [],
   "source": [
    "ei_heatmaps(gp_ei,factors)"
   ]
  },
  {
   "cell_type": "markdown",
   "id": "97d50738-a4e4-47b1-92ef-5d314fa6d86f",
   "metadata": {},
   "source": [
    "### Select the next experiment to perform based on distance"
   ]
  },
  {
   "cell_type": "code",
   "execution_count": null,
   "id": "5b0bb47e-763f-4213-ac78-8a76f4612d74",
   "metadata": {},
   "outputs": [],
   "source": [
    "next_experiment_ei, obj_val = plan_next_experiment(gp_ei, factors, \"EI\")"
   ]
  },
  {
   "cell_type": "code",
   "execution_count": null,
   "id": "66e4e4cb-e72b-41d9-8146-5b72e225c779",
   "metadata": {},
   "outputs": [],
   "source": [
    "next_experiment_ei"
   ]
  },
  {
   "cell_type": "markdown",
   "id": "af9df244-a92b-4aca-b05f-c25f457ea493",
   "metadata": {},
   "source": [
    "### Record the response of the selected experiment"
   ]
  },
  {
   "cell_type": "code",
   "execution_count": null,
   "id": "acaa5ea9-5d19-4d02-af1f-dd01db14c8a2",
   "metadata": {},
   "outputs": [],
   "source": [
    "y_new = #add the distance measurement here"
   ]
  },
  {
   "cell_type": "markdown",
   "id": "a4d0fcc8-8aef-4fdc-8c44-b0da0cd89276",
   "metadata": {},
   "source": [
    "### Update the Gaussian Process with this new experiment"
   ]
  },
  {
   "cell_type": "code",
   "execution_count": null,
   "id": "f4eb6baf-246a-4de0-a783-7aa609261c29",
   "metadata": {},
   "outputs": [],
   "source": [
    "gp_ei = update_model(gp_ei,next_experiment_ei,y_new,factors)"
   ]
  },
  {
   "cell_type": "markdown",
   "id": "07026201-6965-4653-8b54-18663a825b09",
   "metadata": {},
   "source": [
    "## Iteration 5"
   ]
  },
  {
   "cell_type": "markdown",
   "id": "bccdfda1-bcbe-46f6-9b58-0a4498018555",
   "metadata": {},
   "source": [
    "### Plot the EI heat maps"
   ]
  },
  {
   "cell_type": "code",
   "execution_count": null,
   "id": "8836f899-de4d-4d25-a804-ebe22b463fde",
   "metadata": {},
   "outputs": [],
   "source": [
    "ei_heatmaps(gp_ei,factors)"
   ]
  },
  {
   "cell_type": "markdown",
   "id": "93994dc4-4c05-4aee-9e75-fd5547fc6f5f",
   "metadata": {},
   "source": [
    "### Select the next experiment to perform based on distance"
   ]
  },
  {
   "cell_type": "code",
   "execution_count": null,
   "id": "4326fcfc-45d5-4c1e-ac75-4d10b381c3fe",
   "metadata": {},
   "outputs": [],
   "source": [
    "next_experiment_ei, obj_val = plan_next_experiment(gp_ei, factors, \"EI\")"
   ]
  },
  {
   "cell_type": "code",
   "execution_count": null,
   "id": "3f17522c-7c7b-431e-b904-1ef58de2b028",
   "metadata": {},
   "outputs": [],
   "source": [
    "next_experiment_ei"
   ]
  },
  {
   "cell_type": "markdown",
   "id": "a675434a-92e0-4a6f-bcdf-a97a21437ba0",
   "metadata": {},
   "source": [
    "### Record the response of the selected experiment"
   ]
  },
  {
   "cell_type": "code",
   "execution_count": null,
   "id": "65844204-0fd3-4267-a510-c8da2cd20f6c",
   "metadata": {},
   "outputs": [],
   "source": [
    "y_new = #add the distance measurement here"
   ]
  },
  {
   "cell_type": "markdown",
   "id": "c37ce5e4-dd45-4da3-bc8f-256dd60bf0c5",
   "metadata": {},
   "source": [
    "### Update the Gaussian Process with this new experiment"
   ]
  },
  {
   "cell_type": "code",
   "execution_count": null,
   "id": "e7bd929e-05b1-4c65-a314-fc954f84ffd5",
   "metadata": {},
   "outputs": [],
   "source": [
    "gp_ei = update_model(gp_ei,next_experiment_ei,y_new,factors)"
   ]
  },
  {
   "cell_type": "markdown",
   "id": "3d0a2734-deba-4dfa-8d1b-6a0d94f0d1bb",
   "metadata": {},
   "source": [
    "## Iteration 6"
   ]
  },
  {
   "cell_type": "markdown",
   "id": "b08bbe62-5331-44dc-b99b-18986201df9d",
   "metadata": {},
   "source": [
    "### Plot the EI heat maps"
   ]
  },
  {
   "cell_type": "code",
   "execution_count": null,
   "id": "8f4d1064-b5c2-493a-bcd6-df6beea9a635",
   "metadata": {},
   "outputs": [],
   "source": [
    "ei_heatmaps(gp_ei,factors)"
   ]
  },
  {
   "cell_type": "markdown",
   "id": "9ba2fad0-c341-456a-8526-b3b370708e13",
   "metadata": {},
   "source": [
    "### Select the next experiment to perform based on distance"
   ]
  },
  {
   "cell_type": "code",
   "execution_count": null,
   "id": "6b526e1c-06b1-4274-a87f-50ec5fac6b07",
   "metadata": {},
   "outputs": [],
   "source": [
    "next_experiment_ei, obj_val = plan_next_experiment(gp_ei, factors, \"EI\")"
   ]
  },
  {
   "cell_type": "code",
   "execution_count": null,
   "id": "93a00749-4690-4778-adbc-d39ac452e4c8",
   "metadata": {},
   "outputs": [],
   "source": [
    "next_experiment_ei"
   ]
  },
  {
   "cell_type": "markdown",
   "id": "60d5ba56-1615-466c-ba9b-b19fbf72f400",
   "metadata": {},
   "source": [
    "### Record the response of the selected experiment"
   ]
  },
  {
   "cell_type": "code",
   "execution_count": null,
   "id": "91725795-ba38-4dd8-b225-35a337d7a2ed",
   "metadata": {},
   "outputs": [],
   "source": [
    "y_new = #add the distance measurement here"
   ]
  },
  {
   "cell_type": "markdown",
   "id": "a54a6ad7-d7a5-4363-88b2-2a7c75f3ab27",
   "metadata": {},
   "source": [
    "### Update the Gaussian Process with this new experiment"
   ]
  },
  {
   "cell_type": "code",
   "execution_count": null,
   "id": "a98afe1d-0868-4b95-b873-d70bc437e895",
   "metadata": {},
   "outputs": [],
   "source": [
    "gp_ei = update_model(gp_ei,next_experiment_ei,y_new,factors)"
   ]
  },
  {
   "cell_type": "markdown",
   "id": "63fee268-fc9b-4774-b19f-6659ea0f5a1f",
   "metadata": {},
   "source": [
    "## Plot the final EI heat maps"
   ]
  },
  {
   "cell_type": "code",
   "execution_count": null,
   "id": "3f5c2186-52f5-4f27-86f8-f28783a492c9",
   "metadata": {},
   "outputs": [],
   "source": [
    "ei_heatmaps(gp_ei,factors)"
   ]
  }
 ],
 "metadata": {
  "kernelspec": {
   "display_name": "Python 3 (ipykernel)",
   "language": "python",
   "name": "python3"
  },
  "language_info": {
   "codemirror_mode": {
    "name": "ipython",
    "version": 3
   },
   "file_extension": ".py",
   "mimetype": "text/x-python",
   "name": "python",
   "nbconvert_exporter": "python",
   "pygments_lexer": "ipython3",
   "version": "3.9.18"
  }
 },
 "nbformat": 4,
 "nbformat_minor": 5
}
