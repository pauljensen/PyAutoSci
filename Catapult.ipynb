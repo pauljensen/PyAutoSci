{
 "cells": [
  {
   "cell_type": "markdown",
   "id": "8124bb5b-510f-4a9a-94cc-4736226a3567",
   "metadata": {},
   "source": [
    "# Set up"
   ]
  },
  {
   "cell_type": "code",
   "execution_count": null,
   "id": "98dc67de-eab6-49fa-8bfd-8008721e6fe8",
   "metadata": {},
   "outputs": [],
   "source": [
    "!git clone https://github.com/pauljensen/PyAutoSci\n",
    "%cd PyAutoSci"
   ]
  },
  {
   "cell_type": "code",
   "execution_count": null,
   "id": "b5026558-e870-4238-8f46-9ef620c2e438",
   "metadata": {},
   "outputs": [],
   "source": [
    "from FactorSet import *\n",
    "from gp_update_function import *\n",
    "from InitStrategies import *\n",
    "from PlotWrapper import *\n",
    "from plan_next_experiment import *\n",
    "import matplotlib.pyplot as plt\n",
    "from plot_heatmaps import *\n",
    "from sklearn.gaussian_process.kernels import RBF"
   ]
  },
  {
   "cell_type": "markdown",
   "id": "14623b40-e245-45ff-9b17-b3e937c233c3",
   "metadata": {
    "jp-MarkdownHeadingCollapsed": true
   },
   "source": [
    "# Add factor (variables)"
   ]
  },
  {
   "cell_type": "code",
   "execution_count": null,
   "id": "8013210b-c929-4d3e-8d9d-dbd5829f8f37",
   "metadata": {},
   "outputs": [],
   "source": [
    "factors = FactorSet()\n",
    "factors.add_categorical(name=\"projectile\", levels=[\"pingpong\", \"whiffle\"])\n",
    "factors.add_continuous(name=\"draw_angle\", minimum=20, maximum=180)\n",
    "factors.add_ordinal(name=\"rubber_bands\", levels=[1, 2, 3])"
   ]
  },
  {
   "cell_type": "markdown",
   "id": "f64976b7-b274-41e0-a3aa-0c15689cc113",
   "metadata": {
    "jp-MarkdownHeadingCollapsed": true
   },
   "source": [
    "# Create and select initial design"
   ]
  },
  {
   "cell_type": "markdown",
   "id": "72a4a563-7dd6-45e7-a79c-893f0832880b",
   "metadata": {},
   "source": [
    "## Make Latin Hypercube Sampling, Maximin, and Random designs"
   ]
  },
  {
   "cell_type": "code",
   "execution_count": null,
   "id": "1f5bd7cb-da56-4270-a2f3-25b8dfd5f8dd",
   "metadata": {},
   "outputs": [],
   "source": [
    "n = 6\n",
    "X_LHS = create_design(\"LHS\",factors,n)\n",
    "X_maximin = create_design(\"Maximin\",factors,n)\n",
    "X_random = create_design(\"Random\",factors,n)"
   ]
  },
  {
   "cell_type": "markdown",
   "id": "0c0f94b0-bbe7-432b-9b1c-ad63d1e97579",
   "metadata": {},
   "source": [
    "### Visualize each design"
   ]
  },
  {
   "cell_type": "code",
   "execution_count": null,
   "id": "f92ff700-4000-4b8a-8716-39b81ec755ed",
   "metadata": {},
   "outputs": [],
   "source": [
    "#replace X_LHS with the names of other designs to visualize them\n",
    "plot_design(X_LHS,factors)"
   ]
  },
  {
   "cell_type": "markdown",
   "id": "7dd831cd-3043-485d-89f3-2a701fa5a3da",
   "metadata": {},
   "source": [
    "## Choose a design"
   ]
  },
  {
   "cell_type": "code",
   "execution_count": null,
   "id": "3560a60c-2c7b-4468-ab3b-6fdc7795d457",
   "metadata": {},
   "outputs": [],
   "source": [
    "X = #choose X_LHS, X_maximin, or X_random"
   ]
  },
  {
   "cell_type": "markdown",
   "id": "8a97b664-b328-45fd-a1be-ee49cfd199d1",
   "metadata": {
    "jp-MarkdownHeadingCollapsed": true
   },
   "source": [
    "# Record distances from the selected design"
   ]
  },
  {
   "cell_type": "code",
   "execution_count": null,
   "id": "03eb6e98-72b7-4bdd-87f1-a4400d503e24",
   "metadata": {},
   "outputs": [],
   "source": [
    "X"
   ]
  },
  {
   "cell_type": "code",
   "execution_count": null,
   "id": "4d6f2e43-0d2c-4522-af93-74de92b6c69b",
   "metadata": {},
   "outputs": [],
   "source": [
    "#add your responses in this list in order\n",
    "y = []"
   ]
  },
  {
   "cell_type": "markdown",
   "id": "377251a6-1027-46b3-85ff-9312f5255d69",
   "metadata": {},
   "source": [
    "# Perform the automated science loop"
   ]
  },
  {
   "cell_type": "markdown",
   "id": "c7d80faa-6709-48da-8a62-ca36e1810c52",
   "metadata": {},
   "source": [
    "## Train a Gaussian Process on the initial maximin data and responses"
   ]
  },
  {
   "cell_type": "code",
   "execution_count": null,
   "id": "2232e600-7083-4e0f-bf73-b966833a1e24",
   "metadata": {},
   "outputs": [],
   "source": [
    "kernel = RBF()\n",
    "gp = GaussianProcessRegressor(kernel)\n",
    "gp = train_model(gp, X, y, factors)"
   ]
  },
  {
   "cell_type": "markdown",
   "id": "f6592df0-47ba-450a-acdc-8cb02500da1d",
   "metadata": {
    "jp-MarkdownHeadingCollapsed": true
   },
   "source": [
    "## Iteration 1"
   ]
  },
  {
   "cell_type": "markdown",
   "id": "049d0530-7e2a-4eb8-a640-5caa251890da",
   "metadata": {},
   "source": [
    "### Plot the heat maps"
   ]
  },
  {
   "cell_type": "code",
   "execution_count": null,
   "id": "e8b802be-6c5c-49a6-849c-392d56e51456",
   "metadata": {},
   "outputs": [],
   "source": [
    "distance_heatmaps(gp, factors) #exploitation"
   ]
  },
  {
   "cell_type": "code",
   "execution_count": null,
   "id": "f9938175-49c0-4931-9732-0b51aa407897",
   "metadata": {},
   "outputs": [],
   "source": [
    "uncertainty_heatmaps(gp, factors) #exploration"
   ]
  },
  {
   "cell_type": "code",
   "execution_count": null,
   "id": "3f0c123d-510e-462b-b866-02d70cf20be4",
   "metadata": {},
   "outputs": [],
   "source": [
    "EI_heatmaps(gp, factors) #hybrid"
   ]
  },
  {
   "cell_type": "markdown",
   "id": "f29f59f7-87c7-4313-946f-0653e6cff4f8",
   "metadata": {},
   "source": [
    "### Select a policy"
   ]
  },
  {
   "cell_type": "code",
   "execution_count": null,
   "id": "4d0c4edf-d683-4939-ad41-5b3ae813850e",
   "metadata": {},
   "outputs": [],
   "source": [
    "policy = #\"Exploitation\", \"Exploration\", or \"EI\""
   ]
  },
  {
   "cell_type": "markdown",
   "id": "1ba03729-c995-4027-8692-9a65cd879190",
   "metadata": {},
   "source": [
    "### Select the next experiment to perform based on the chosen policy"
   ]
  },
  {
   "cell_type": "code",
   "execution_count": null,
   "id": "ff4ec6eb-8a25-481a-88dd-b3418379df67",
   "metadata": {},
   "outputs": [],
   "source": [
    "X_new, obj_val = plan_next_experiment(gp, factors, policy)"
   ]
  },
  {
   "cell_type": "code",
   "execution_count": null,
   "id": "0f9d4596-3a81-4589-bd07-36667ce7a279",
   "metadata": {},
   "outputs": [],
   "source": [
    "X_new"
   ]
  },
  {
   "cell_type": "markdown",
   "id": "7fdda348-414c-49ed-ad6a-cac7c590a274",
   "metadata": {},
   "source": [
    "### Record the response of the selected experiment"
   ]
  },
  {
   "cell_type": "code",
   "execution_count": null,
   "id": "4f761141-4c24-49f7-9f1a-874b5cd8db73",
   "metadata": {},
   "outputs": [],
   "source": [
    "y_new = #add the distance measurement here"
   ]
  },
  {
   "cell_type": "markdown",
   "id": "991f1186-dedd-4746-81ab-bd775471eca5",
   "metadata": {},
   "source": [
    "### Update the Gaussian Process with this new experiment"
   ]
  },
  {
   "cell_type": "code",
   "execution_count": null,
   "id": "57c88abc-0dd6-42f9-9916-2abb4c06a0b6",
   "metadata": {},
   "outputs": [],
   "source": [
    "gp = update_model(gp, X_new, y_new, factors)"
   ]
  },
  {
   "cell_type": "markdown",
   "id": "e9a8d0e9-2a64-4d5f-b32d-3d2d445c9cb7",
   "metadata": {
    "jp-MarkdownHeadingCollapsed": true
   },
   "source": [
    "## Iteration 2"
   ]
  },
  {
   "cell_type": "markdown",
   "id": "457e63e6-31cf-4d56-bd53-6779fdd7e13c",
   "metadata": {},
   "source": [
    "### Plot the heat maps"
   ]
  },
  {
   "cell_type": "code",
   "execution_count": null,
   "id": "169983fd-e1f4-4be3-b2b9-c648c59fd264",
   "metadata": {},
   "outputs": [],
   "source": [
    "distance_heatmaps(gp, factors) #exploitation"
   ]
  },
  {
   "cell_type": "code",
   "execution_count": null,
   "id": "a5966c4a-b451-4704-ab5a-32ad1d69deed",
   "metadata": {},
   "outputs": [],
   "source": [
    "uncertainty_heatmaps(gp, factors) #exploration"
   ]
  },
  {
   "cell_type": "code",
   "execution_count": null,
   "id": "8f42432d-2464-46d6-9d74-7e1d12346062",
   "metadata": {},
   "outputs": [],
   "source": [
    "EI_heatmaps(gp, factors) #hybrid"
   ]
  },
  {
   "cell_type": "markdown",
   "id": "150070e6-7642-4996-aea1-01874fc5c37b",
   "metadata": {},
   "source": [
    "### Select a policy"
   ]
  },
  {
   "cell_type": "code",
   "execution_count": null,
   "id": "8820be98-cae5-410f-8bdc-4a6ced3ef12c",
   "metadata": {},
   "outputs": [],
   "source": [
    "policy = #\"Exploitation\", \"Exploration\", or \"EI\""
   ]
  },
  {
   "cell_type": "markdown",
   "id": "8d2a5922-7383-4f45-9d98-e02734202612",
   "metadata": {},
   "source": [
    "### Select the next experiment to perform based on the chosen policy"
   ]
  },
  {
   "cell_type": "code",
   "execution_count": null,
   "id": "45756e79-eb75-4d4e-8124-5ea4f5802352",
   "metadata": {},
   "outputs": [],
   "source": [
    "X_new, obj_val = plan_next_experiment(gp, factors, policy)"
   ]
  },
  {
   "cell_type": "code",
   "execution_count": null,
   "id": "2f618384-70d8-41f3-b455-816fce4c77fd",
   "metadata": {},
   "outputs": [],
   "source": [
    "X_new"
   ]
  },
  {
   "cell_type": "markdown",
   "id": "d2f1348a-ffb7-4b25-9790-1744580bf746",
   "metadata": {},
   "source": [
    "### Record the response of the selected experiment"
   ]
  },
  {
   "cell_type": "code",
   "execution_count": null,
   "id": "d4147d68-8219-4ce7-8d8c-08eb575a33b8",
   "metadata": {},
   "outputs": [],
   "source": [
    "y_new = #add the distance measurement here"
   ]
  },
  {
   "cell_type": "markdown",
   "id": "4457e71a-4840-4e11-aa5f-724c9bb90e59",
   "metadata": {},
   "source": [
    "### Update the Gaussian Process with this new experiment"
   ]
  },
  {
   "cell_type": "code",
   "execution_count": null,
   "id": "87568816-2dcc-4904-8227-2358313b7ade",
   "metadata": {},
   "outputs": [],
   "source": [
    "gp = update_model(gp, X_new, y_new, factors)"
   ]
  },
  {
   "cell_type": "markdown",
   "id": "ffa07bc3-0b01-4b7c-a7f2-139f064e14ee",
   "metadata": {
    "jp-MarkdownHeadingCollapsed": true
   },
   "source": [
    "## Iteration 3"
   ]
  },
  {
   "cell_type": "markdown",
   "id": "9ffd8712-a2cf-4004-b48c-aedb05da8973",
   "metadata": {},
   "source": [
    "### Plot the heat maps"
   ]
  },
  {
   "cell_type": "code",
   "execution_count": null,
   "id": "253718ff-2b59-4f2a-b47b-f3e90edb60c9",
   "metadata": {},
   "outputs": [],
   "source": [
    "distance_heatmaps(gp, factors) #exploitation"
   ]
  },
  {
   "cell_type": "code",
   "execution_count": null,
   "id": "2c4b4247-aaf9-4c46-b284-d1140d96eb4a",
   "metadata": {},
   "outputs": [],
   "source": [
    "uncertainty_heatmaps(gp, factors) #exploration"
   ]
  },
  {
   "cell_type": "code",
   "execution_count": null,
   "id": "25af4347-9188-4ec2-ac63-450ef7a78369",
   "metadata": {},
   "outputs": [],
   "source": [
    "EI_heatmaps(gp, factors) #hybrid"
   ]
  },
  {
   "cell_type": "markdown",
   "id": "61a927f1-4dc3-406a-979a-2ef235dd1ed9",
   "metadata": {},
   "source": [
    "### Select a policy"
   ]
  },
  {
   "cell_type": "code",
   "execution_count": null,
   "id": "ffb99847-cdcd-486a-82f6-f1d4e114f969",
   "metadata": {},
   "outputs": [],
   "source": [
    "policy = #\"Exploitation\", \"Exploration\", or \"EI\""
   ]
  },
  {
   "cell_type": "markdown",
   "id": "1ee54ba8-b9d6-40c4-8b53-a4fd1b5c6e47",
   "metadata": {},
   "source": [
    "### Select the next experiment to perform based on the chosen policy"
   ]
  },
  {
   "cell_type": "code",
   "execution_count": null,
   "id": "ef21b18d-f19a-4426-a85b-0f54cdb5bd38",
   "metadata": {},
   "outputs": [],
   "source": [
    "X_new, obj_val = plan_next_experiment(gp, factors, policy)"
   ]
  },
  {
   "cell_type": "code",
   "execution_count": null,
   "id": "f26892d5-b146-446a-af73-f779e261d6fb",
   "metadata": {},
   "outputs": [],
   "source": [
    "X_new"
   ]
  },
  {
   "cell_type": "markdown",
   "id": "f30fac19-f4d4-449a-be34-f6a2a4db0118",
   "metadata": {},
   "source": [
    "### Record the response of the selected experiment"
   ]
  },
  {
   "cell_type": "code",
   "execution_count": null,
   "id": "91c7ac8c-0ec3-48cf-be9c-7b02105430b6",
   "metadata": {},
   "outputs": [],
   "source": [
    "y_new = #add the distance measurement here"
   ]
  },
  {
   "cell_type": "markdown",
   "id": "06527069-55b1-4e70-938f-e90fa1c46b4d",
   "metadata": {},
   "source": [
    "### Update the Gaussian Process with this new experiment"
   ]
  },
  {
   "cell_type": "code",
   "execution_count": null,
   "id": "589bd775-7c46-4d5c-828b-a0a2a105c067",
   "metadata": {},
   "outputs": [],
   "source": [
    "gp = update_model(gp, X_new, y_new, factors)"
   ]
  },
  {
   "cell_type": "markdown",
   "id": "c6687ab8-bf33-40af-aa8c-3daba3d56e68",
   "metadata": {
    "jp-MarkdownHeadingCollapsed": true
   },
   "source": [
    "## Iteration 4"
   ]
  },
  {
   "cell_type": "markdown",
   "id": "a8ad494e-a8f7-4732-b848-0c63a04299a8",
   "metadata": {},
   "source": [
    "### Plot the heat maps"
   ]
  },
  {
   "cell_type": "code",
   "execution_count": null,
   "id": "7aa3eb0b-1b8b-4777-ba35-24ecda93f2de",
   "metadata": {},
   "outputs": [],
   "source": [
    "distance_heatmaps(gp, factors) #exploitation"
   ]
  },
  {
   "cell_type": "code",
   "execution_count": null,
   "id": "8faed79b-f728-4673-8cf6-d9eedc4718bf",
   "metadata": {},
   "outputs": [],
   "source": [
    "uncertainty_heatmaps(gp, factors) #exploration"
   ]
  },
  {
   "cell_type": "code",
   "execution_count": null,
   "id": "fe1eece2-d7b3-4cf8-9c36-d74e3aeb0c2f",
   "metadata": {},
   "outputs": [],
   "source": [
    "EI_heatmaps(gp, factors) #hybrid"
   ]
  },
  {
   "cell_type": "markdown",
   "id": "77c1e2d9-23df-430d-a31c-45d85eef5e1c",
   "metadata": {},
   "source": [
    "### Select a policy"
   ]
  },
  {
   "cell_type": "code",
   "execution_count": null,
   "id": "d2072ef7-2d70-4372-84a4-6e39eceb7584",
   "metadata": {},
   "outputs": [],
   "source": [
    "policy = #\"Exploitation\", \"Exploration\", or \"EI\""
   ]
  },
  {
   "cell_type": "markdown",
   "id": "44c9fbf2-1c01-4b86-a6c4-c0db9c62ac6d",
   "metadata": {},
   "source": [
    "### Select the next experiment to perform based on the chosen policy"
   ]
  },
  {
   "cell_type": "code",
   "execution_count": null,
   "id": "57c08e7b-fc90-49b8-91c5-da4a72d21cce",
   "metadata": {},
   "outputs": [],
   "source": [
    "X_new, obj_val = plan_next_experiment(gp, factors, policy)"
   ]
  },
  {
   "cell_type": "code",
   "execution_count": null,
   "id": "272f8f29-e786-44cc-9dff-56eef1f8295a",
   "metadata": {},
   "outputs": [],
   "source": [
    "X_new"
   ]
  },
  {
   "cell_type": "markdown",
   "id": "2eb68f1a-866a-42b6-987b-2c44aa0180bd",
   "metadata": {},
   "source": [
    "### Record the response of the selected experiment"
   ]
  },
  {
   "cell_type": "code",
   "execution_count": null,
   "id": "ca8b6c84-b463-40e0-a26b-c05964054218",
   "metadata": {},
   "outputs": [],
   "source": [
    "y_new = #add the distance measurement here"
   ]
  },
  {
   "cell_type": "markdown",
   "id": "076a2245-d01f-4063-bc9c-c944f9f27718",
   "metadata": {},
   "source": [
    "### Update the Gaussian Process with this new experiment"
   ]
  },
  {
   "cell_type": "code",
   "execution_count": null,
   "id": "0587c0a1-f7c2-4f30-bc47-903d32dbab47",
   "metadata": {},
   "outputs": [],
   "source": [
    "gp = update_model(gp, X_new, y_new, factors)"
   ]
  },
  {
   "cell_type": "markdown",
   "id": "6a2012ab-8654-4d75-8f49-95db08564787",
   "metadata": {
    "jp-MarkdownHeadingCollapsed": true
   },
   "source": [
    "## Iteration 5"
   ]
  },
  {
   "cell_type": "markdown",
   "id": "7c7d4cfa-88ef-4bfe-8753-10125a0fe6cf",
   "metadata": {
    "jp-MarkdownHeadingCollapsed": true
   },
   "source": [
    "### Plot the heat maps"
   ]
  },
  {
   "cell_type": "code",
   "execution_count": null,
   "id": "b9bd90e0-cab6-4492-8a21-59fd3ca5e95b",
   "metadata": {},
   "outputs": [],
   "source": [
    "distance_heatmaps(gp, factors) #exploitation"
   ]
  },
  {
   "cell_type": "code",
   "execution_count": null,
   "id": "513ebc2c-1f18-47b6-95ec-cc57df516c74",
   "metadata": {},
   "outputs": [],
   "source": [
    "uncertainty_heatmaps(gp, factors) #exploration"
   ]
  },
  {
   "cell_type": "code",
   "execution_count": null,
   "id": "aa940991-cfeb-41be-a23c-21d0f6234a2d",
   "metadata": {},
   "outputs": [],
   "source": [
    "EI_heatmaps(gp, factors) #hybrid"
   ]
  },
  {
   "cell_type": "markdown",
   "id": "74dc908a-d6df-45ce-9fb8-94b733a5558d",
   "metadata": {},
   "source": [
    "### Select a policy"
   ]
  },
  {
   "cell_type": "code",
   "execution_count": null,
   "id": "e8435a38-1ed1-4952-966c-3552b794e6a1",
   "metadata": {},
   "outputs": [],
   "source": [
    "policy = #\"Exploitation\", \"Exploration\", or \"EI\""
   ]
  },
  {
   "cell_type": "markdown",
   "id": "a8c87c5d-903f-4f82-985b-7def2dbf4915",
   "metadata": {},
   "source": [
    "### Select the next experiment to perform based on the chosen policy"
   ]
  },
  {
   "cell_type": "code",
   "execution_count": null,
   "id": "a47e0462-d2d2-4091-b738-dc8b83479e76",
   "metadata": {},
   "outputs": [],
   "source": [
    "X_new, obj_val = plan_next_experiment(gp, factors, policy)"
   ]
  },
  {
   "cell_type": "code",
   "execution_count": null,
   "id": "4e6a66d7-a411-4796-8649-932fcd477320",
   "metadata": {},
   "outputs": [],
   "source": [
    "X_new"
   ]
  },
  {
   "cell_type": "markdown",
   "id": "1abe231b-0219-4e91-acbd-173a2f6a0eb1",
   "metadata": {},
   "source": [
    "### Record the response of the selected experiment"
   ]
  },
  {
   "cell_type": "code",
   "execution_count": null,
   "id": "cf9ee31b-c782-4259-9d60-3715c265e50b",
   "metadata": {},
   "outputs": [],
   "source": [
    "y_new = #add the distance measurement here"
   ]
  },
  {
   "cell_type": "markdown",
   "id": "f7955d18-aa0f-4c89-bc48-f15a152b2b07",
   "metadata": {},
   "source": [
    "### Update the Gaussian Process with this new experiment"
   ]
  },
  {
   "cell_type": "code",
   "execution_count": null,
   "id": "09f3294a-20af-4c3e-a80f-a4d36b3994b7",
   "metadata": {},
   "outputs": [],
   "source": [
    "gp = update_model(gp, X_new, y_new, factors)"
   ]
  },
  {
   "cell_type": "markdown",
   "id": "a2eef279-6eda-439b-8e16-38c6c7fc8a02",
   "metadata": {},
   "source": [
    "## Iteration 6"
   ]
  },
  {
   "cell_type": "markdown",
   "id": "87b95f40-7dbe-4ee0-8533-ae411d6a42b7",
   "metadata": {},
   "source": [
    "### Plot the heat maps"
   ]
  },
  {
   "cell_type": "code",
   "execution_count": null,
   "id": "7683960d-5e70-4d0a-b1fe-b820e9b0ec2e",
   "metadata": {},
   "outputs": [],
   "source": [
    "distance_heatmaps(gp, factors) #exploitation"
   ]
  },
  {
   "cell_type": "code",
   "execution_count": null,
   "id": "d782d733-b281-4da9-b2bd-b800ef77d5ce",
   "metadata": {},
   "outputs": [],
   "source": [
    "uncertainty_heatmaps(gp, factors) #exploration"
   ]
  },
  {
   "cell_type": "code",
   "execution_count": null,
   "id": "48885b68-f47b-43b5-9364-c51e9e02d900",
   "metadata": {},
   "outputs": [],
   "source": [
    "EI_heatmaps(gp, factors) #hybrid"
   ]
  },
  {
   "cell_type": "markdown",
   "id": "a9e22dc5-8da4-4963-9416-670adbecf599",
   "metadata": {},
   "source": [
    "### Select a policy"
   ]
  },
  {
   "cell_type": "code",
   "execution_count": null,
   "id": "3ccb639c-778a-4277-9a47-c4a21b16efe9",
   "metadata": {},
   "outputs": [],
   "source": [
    "policy = #\"Exploitation\", \"Exploration\", or \"EI\""
   ]
  },
  {
   "cell_type": "markdown",
   "id": "048ebca0-e156-4202-bba1-dabc73dacc68",
   "metadata": {},
   "source": [
    "### Select the next experiment to perform based on the chosen policy"
   ]
  },
  {
   "cell_type": "code",
   "execution_count": null,
   "id": "fa40635f-cb6f-4858-a36e-7c7f268f8830",
   "metadata": {},
   "outputs": [],
   "source": [
    "X_new, obj_val = plan_next_experiment(gp, factors, policy)"
   ]
  },
  {
   "cell_type": "code",
   "execution_count": null,
   "id": "670bc129-561e-4857-9a41-de151b39382f",
   "metadata": {},
   "outputs": [],
   "source": [
    "X_new"
   ]
  },
  {
   "cell_type": "markdown",
   "id": "456a24d2-9739-4691-b75d-2c6dd0e689b0",
   "metadata": {},
   "source": [
    "### Record the response of the selected experiment"
   ]
  },
  {
   "cell_type": "code",
   "execution_count": null,
   "id": "1b994c38-45b8-4033-acfe-8064cc21e08e",
   "metadata": {},
   "outputs": [],
   "source": [
    "y_new = #add the distance measurement here"
   ]
  },
  {
   "cell_type": "markdown",
   "id": "c9418a97-c9e0-457b-9af5-eea02a77335b",
   "metadata": {},
   "source": [
    "### Update the Gaussian Process with this new experiment"
   ]
  },
  {
   "cell_type": "code",
   "execution_count": null,
   "id": "9bc3e3f9-b9f3-449d-8ed7-be4af8d17c73",
   "metadata": {},
   "outputs": [],
   "source": [
    "gp = update_model(gp, X_new, y_new, factors)"
   ]
  },
  {
   "cell_type": "markdown",
   "id": "28b89db5-b548-4ed9-96b0-1d17df01250f",
   "metadata": {},
   "source": [
    "# Plot the final heat maps"
   ]
  },
  {
   "cell_type": "code",
   "execution_count": null,
   "id": "a8422cdb-7dac-4e0a-96ff-4bc5ab028ab1",
   "metadata": {},
   "outputs": [],
   "source": [
    "distance_heatmaps(gp, factors) #exploitation"
   ]
  },
  {
   "cell_type": "code",
   "execution_count": null,
   "id": "80e2576e-322a-4269-aa9d-aa987bd4a41b",
   "metadata": {},
   "outputs": [],
   "source": [
    "uncertainty_heatmaps(gp, factors) #exploration"
   ]
  },
  {
   "cell_type": "code",
   "execution_count": null,
   "id": "2af3f235-148d-4666-add1-39a3c8339878",
   "metadata": {},
   "outputs": [],
   "source": [
    "EI_heatmaps(gp, factors) #hybrid"
   ]
  },
  {
   "cell_type": "markdown",
   "id": "e966cba9-09f1-4170-8d03-0647872608e7",
   "metadata": {},
   "source": [
    "# Perform best experiment 3 times and record the distances"
   ]
  },
  {
   "cell_type": "code",
   "execution_count": null,
   "id": "085d4738-91e1-4806-bd49-40f9add96ddf",
   "metadata": {},
   "outputs": [],
   "source": [
    "y_best = []"
   ]
  },
  {
   "cell_type": "markdown",
   "id": "356f0ee0-c221-4ed9-9553-dc33362513e2",
   "metadata": {},
   "source": [
    "## Calculate mean and standard deviation"
   ]
  },
  {
   "cell_type": "code",
   "execution_count": null,
   "id": "92b9a183-f8a0-4bd5-9cfd-43a25e6e9ad8",
   "metadata": {},
   "outputs": [],
   "source": [
    "np.mean(y_best)"
   ]
  },
  {
   "cell_type": "code",
   "execution_count": null,
   "id": "ce91e59f-3ae1-4b43-a634-d5265af856e9",
   "metadata": {},
   "outputs": [],
   "source": [
    "np.std(y_best,ddof=1)"
   ]
  }
 ],
 "metadata": {
  "kernelspec": {
   "display_name": "Python 3 (ipykernel)",
   "language": "python",
   "name": "python3"
  },
  "language_info": {
   "codemirror_mode": {
    "name": "ipython",
    "version": 3
   },
   "file_extension": ".py",
   "mimetype": "text/x-python",
   "name": "python",
   "nbconvert_exporter": "python",
   "pygments_lexer": "ipython3",
   "version": "3.9.18"
  }
 },
 "nbformat": 4,
 "nbformat_minor": 5
}
